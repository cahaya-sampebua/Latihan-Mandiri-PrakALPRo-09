{
  "nbformat": 4,
  "nbformat_minor": 0,
  "metadata": {
    "colab": {
      "provenance": []
    },
    "kernelspec": {
      "name": "python3",
      "display_name": "Python 3"
    },
    "language_info": {
      "name": "python"
    }
  },
  "cells": [
    {
      "cell_type": "code",
      "execution_count": 1,
      "metadata": {
        "id": "lVEE5ZLhqUqr",
        "colab": {
          "base_uri": "https://localhost:8080/"
        },
        "outputId": "0df2b61b-fb05-492c-eba8-2d49697e85d6"
      },
      "outputs": [
        {
          "output_type": "stream",
          "name": "stdout",
          "text": [
            "[31, 21, 10]\n"
          ]
        }
      ],
      "source": [
        "#Soal 1\n",
        "list = [1,3,2,3,1,21,4,2,3,1,2,31,2,31,2,3,10]\n",
        "\n",
        "list = sorted(list)\n",
        "nilai_tertinggi = []\n",
        "\n",
        "for i in list[len(list)::-1]:\n",
        "    if i not in nilai_tertinggi:\n",
        "        nilai_tertinggi.append(i)\n",
        "    else:\n",
        "        continue\n",
        "\n",
        "    if len(nilai_tertinggi) == 3:\n",
        "        break\n",
        "\n",
        "print(nilai_tertinggi)"
      ]
    },
    {
      "cell_type": "code",
      "source": [
        "#Soal 2\n",
        "list = []\n",
        "\n",
        "status = True\n",
        "\n",
        "while status == True:\n",
        "    angka = input(\"Masukkan angka : \")\n",
        "    if angka.lower() == \"done\":\n",
        "        break\n",
        "    else:\n",
        "        list.append(int(angka))\n",
        "\n",
        "try:\n",
        "    print(\"Nilai terbesar adalah\",max(list))\n",
        "    print(\"Nilai terkecil adalah\",min(list))\n",
        "\n",
        "except:\n",
        "    print(\"Input error!\")"
      ],
      "metadata": {
        "colab": {
          "base_uri": "https://localhost:8080/"
        },
        "id": "YS0-N1vAwytN",
        "outputId": "78c2f6d8-8301-4921-85d4-b8c9faba6ada"
      },
      "execution_count": 2,
      "outputs": [
        {
          "output_type": "stream",
          "name": "stdout",
          "text": [
            "Masukkan angka : 10\n",
            "Masukkan angka : 23\n",
            "Masukkan angka : 69\n",
            "Masukkan angka : 21\n",
            "Masukkan angka : 44\n",
            "Masukkan angka : 4323\n",
            "Masukkan angka : done\n",
            "Nilai terbesar adalah 4323\n",
            "Nilai terkecil adalah 10\n"
          ]
        }
      ]
    },
    {
      "cell_type": "code",
      "source": [
        "#Soal 3\n",
        "berita = input(\"Masukkan file berita (txt) : \")\n",
        "\n",
        "buka = open(berita,\"r\")\n",
        "\n",
        "list = []\n",
        "\n",
        "for line in buka:\n",
        "    line = line.split(\" \")\n",
        "    for kata in line:\n",
        "        if kata not in list:\n",
        "            list.append(kata.strip())\n",
        "        else:\n",
        "            continue\n",
        "\n",
        "print(list)\n",
        "buka.close()"
      ],
      "metadata": {
        "colab": {
          "base_uri": "https://localhost:8080/"
        },
        "id": "ocrmB5t3xTLI",
        "outputId": "2755ed34-834e-4a74-e7bb-1778332dac42"
      },
      "execution_count": 3,
      "outputs": [
        {
          "output_type": "stream",
          "name": "stdout",
          "text": [
            "Masukkan file berita (txt) : berita.txt\n",
            "['Diskenariokan', 'sekelompok', 'musuh', 'pembawa', 'teror', 'berhasil', 'menyandera', 'pejabat', 'dan', 'menduduki', 'sejumlah', 'objek', 'vital', 'di', 'Kota', 'Tegal.', 'Prajurit', 'TNI', 'AD', 'dari', 'Kodam', 'IV', 'Diponegoro', 'diterjunkan', 'untuk', \"'membebaskan'\", 'dengan', 'memukul', 'mundur', 'musuh.', 'Sebelumnya,', 'prajurit', 'melakukan', 'evakuasi', 'warga', 'sipil', 'menghindari', 'jatuhnya', 'korban.', 'Atas', 'kesigapan', 'berbagai', 'satuan,', 'Tegal', 'akhirnya', 'dibebaskan', 'musuh.', 'Danrem', '071/WK', 'Kolonel', 'Inf.', 'Dwi', 'Lagan', 'Safrudin', 'mengatakan', 'apel', 'gelar', 'pasukan', 'digelar', 'mengetahui', 'kesiapan', 'satuan', 'IV/Diponegoro.', 'Kemudian,', 'Latpurkota', 'merupakan', 'kegiatan', 'latihan', 'dalam', 'membina', 'kemampuan', 'anggota.', '\"Latpurkota', 'ini', 'khususnya', 'wilayah', 'Diponegoro,\"', 'kata', 'Lagan.', 'Dikatakan', 'Lagan,', 'berbicara', 'tentang', 'spektrum', 'ancaman', 'ke', 'depan,', 'maka', 'perlu', 'disiapkan', 'personel.', 'Sehingga,', 'segala', 'bentuk', 'akan', 'bisa', 'diatasi.\"Pada', 'ini,', 'kita', 'melibatkan', '900', 'orang', 'yang', 'terdiri', 'satuan,\"', 'pungkasnya.', 'Wali', 'Dedy', 'Yon', 'Supriyono', 'menyampaikan', 'terimakasih', 'kepada', 'jajaran', 'karena', 'memberikan', 'kepercayaan', 'sebagai', 'tempat', 'penyelenggaraan', 'Latpurkota.']\n"
          ]
        }
      ]
    }
  ]
}